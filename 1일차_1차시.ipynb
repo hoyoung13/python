{
  "nbformat": 4,
  "nbformat_minor": 0,
  "metadata": {
    "colab": {
      "name": "1일차_1차시.ipynb",
      "provenance": [],
      "authorship_tag": "ABX9TyOsysakh5o5tgKqtYnGHmUJ",
      "include_colab_link": true
    },
    "kernelspec": {
      "name": "python3",
      "display_name": "Python 3"
    }
  },
  "cells": [
    {
      "cell_type": "markdown",
      "metadata": {
        "id": "view-in-github",
        "colab_type": "text"
      },
      "source": [
        "<a href=\"https://colab.research.google.com/github/hoyoung13/python/blob/master/1%EC%9D%BC%EC%B0%A8_1%EC%B0%A8%EC%8B%9C.ipynb\" target=\"_parent\"><img src=\"https://colab.research.google.com/assets/colab-badge.svg\" alt=\"Open In Colab\"/></a>"
      ]
    },
    {
      "cell_type": "code",
      "metadata": {
        "id": "OCuET3sR4G0x",
        "colab_type": "code",
        "colab": {
          "base_uri": "https://localhost:8080/",
          "height": 35
        },
        "outputId": "d0580b9f-8212-4a7e-e4a8-8e2e4579aa9e"
      },
      "source": [
        "print('인천정보산업고등학교');"
      ],
      "execution_count": 2,
      "outputs": [
        {
          "output_type": "stream",
          "text": [
            "인천정보산업고등학교\n"
          ],
          "name": "stdout"
        }
      ]
    },
    {
      "cell_type": "markdown",
      "metadata": {
        "id": "RV_Ic-0k59P2",
        "colab_type": "text"
      },
      "source": [
        "사칙연산"
      ]
    },
    {
      "cell_type": "code",
      "metadata": {
        "id": "2qTbZqtO4utl",
        "colab_type": "code",
        "colab": {
          "base_uri": "https://localhost:8080/",
          "height": 377
        },
        "outputId": "83b58029-97a7-497e-8e80-6b007a92d9f9"
      },
      "source": [
        "a=3\n",
        "b=2\n",
        "print('더하기')\n",
        "print('a+b=',a+b)\n",
        "print('\\n빼기')\n",
        "print('a-b=',a-b)\n",
        "print('\\n곱하기')\n",
        "print('a*b=',a*b)\n",
        "print('\\n나누기')\n",
        "print('a/b=',a/b)\n",
        "print('\\n나머지')\n",
        "print('a%b=',a%b)\n",
        "print('\\n나누기하고 정수만')\n",
        "print('a//b=',a//b)\n",
        "print('\\n거듭제곱')\n",
        "print('a**b=',a**b)\n",
        "\n"
      ],
      "execution_count": 12,
      "outputs": [
        {
          "output_type": "stream",
          "text": [
            "더하기\n",
            "a+b= 5\n",
            "\n",
            "빼기\n",
            "a-b= 1\n",
            "\n",
            "곱하기\n",
            "a*b= 6\n",
            "\n",
            "나누기\n",
            "a/b= 1.5\n",
            "\n",
            "나머지\n",
            "a%b= 1\n",
            "\n",
            "나누기하고 정수만\n",
            "a//b= 1\n",
            "\n",
            "거듭제곱\n",
            "a**b= 9\n"
          ],
          "name": "stdout"
        }
      ]
    }
  ]
}