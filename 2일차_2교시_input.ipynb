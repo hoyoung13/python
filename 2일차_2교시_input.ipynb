{
  "nbformat": 4,
  "nbformat_minor": 0,
  "metadata": {
    "colab": {
      "name": "2일차 2교시 input.ipynb",
      "provenance": [],
      "collapsed_sections": [],
      "authorship_tag": "ABX9TyM7mxVkTxp1hFYmTWy/BZ53",
      "include_colab_link": true
    },
    "kernelspec": {
      "name": "python3",
      "display_name": "Python 3"
    }
  },
  "cells": [
    {
      "cell_type": "markdown",
      "metadata": {
        "id": "view-in-github",
        "colab_type": "text"
      },
      "source": [
        "<a href=\"https://colab.research.google.com/github/hoyoung13/python/blob/master/2%EC%9D%BC%EC%B0%A8_2%EA%B5%90%EC%8B%9C_input.ipynb\" target=\"_parent\"><img src=\"https://colab.research.google.com/assets/colab-badge.svg\" alt=\"Open In Colab\"/></a>"
      ]
    },
    {
      "cell_type": "code",
      "metadata": {
        "id": "E-mtsJk1D0Dw",
        "colab_type": "code",
        "colab": {
          "base_uri": "https://localhost:8080/",
          "height": 53
        },
        "outputId": "b890978a-9d54-4d22-b05a-e963266b7412"
      },
      "source": [
        "a= input('당신의 이름을 입력하시오   >>>   ') \n",
        "a"
      ],
      "execution_count": 3,
      "outputs": [
        {
          "output_type": "stream",
          "text": [
            "당신의 이름을 입력하시오   >>>   천호영\n"
          ],
          "name": "stdout"
        },
        {
          "output_type": "execute_result",
          "data": {
            "text/plain": [
              "'천호영'"
            ]
          },
          "metadata": {
            "tags": []
          },
          "execution_count": 3
        }
      ]
    },
    {
      "cell_type": "code",
      "metadata": {
        "id": "KScEFtrmEc1p",
        "colab_type": "code",
        "colab": {
          "base_uri": "https://localhost:8080/",
          "height": 53
        },
        "outputId": "557edff5-7993-4cc2-aef2-c4c87bea0974"
      },
      "source": [
        "b= input('당신의 나이  >>>   ')\n",
        "b"
      ],
      "execution_count": 4,
      "outputs": [
        {
          "output_type": "stream",
          "text": [
            "당신의 나이  >>>   19\n"
          ],
          "name": "stdout"
        },
        {
          "output_type": "execute_result",
          "data": {
            "text/plain": [
              "'19'"
            ]
          },
          "metadata": {
            "tags": []
          },
          "execution_count": 4
        }
      ]
    },
    {
      "cell_type": "code",
      "metadata": {
        "id": "ygcUNgSuEjh4",
        "colab_type": "code",
        "colab": {
          "base_uri": "https://localhost:8080/",
          "height": 35
        },
        "outputId": "486d8778-390f-42aa-ea23-6f0c23c7e96c"
      },
      "source": [
        "type(b)"
      ],
      "execution_count": 6,
      "outputs": [
        {
          "output_type": "execute_result",
          "data": {
            "text/plain": [
              "str"
            ]
          },
          "metadata": {
            "tags": []
          },
          "execution_count": 6
        }
      ]
    },
    {
      "cell_type": "code",
      "metadata": {
        "id": "ZiKGaRgIE2Mw",
        "colab_type": "code",
        "colab": {
          "base_uri": "https://localhost:8080/",
          "height": 35
        },
        "outputId": "9a9ccf04-d0a7-4b8d-f5ac-215a097ba9d5"
      },
      "source": [
        "c= int(b)\n",
        "c, type(c)"
      ],
      "execution_count": 7,
      "outputs": [
        {
          "output_type": "execute_result",
          "data": {
            "text/plain": [
              "(19, int)"
            ]
          },
          "metadata": {
            "tags": []
          },
          "execution_count": 7
        }
      ]
    },
    {
      "cell_type": "code",
      "metadata": {
        "id": "g-IyEJLmE5IA",
        "colab_type": "code",
        "colab": {
          "base_uri": "https://localhost:8080/",
          "height": 71
        },
        "outputId": "6eba0c46-1532-4001-b76b-e249a33dffb7"
      },
      "source": [
        "year=int(input('출생년도를 입력  '))\n",
        "print('당신은',year,'년생입니다')\n",
        "print('당신의 나이는',2020-year,'세 입니다')"
      ],
      "execution_count": 11,
      "outputs": [
        {
          "output_type": "stream",
          "text": [
            "출생년도를 입력  2002\n",
            "당신은 2002 년생입니다\n",
            "당신의 나이는 18 세 입니다\n"
          ],
          "name": "stdout"
        }
      ]
    },
    {
      "cell_type": "markdown",
      "metadata": {
        "id": "Dj8O7kAxG4MV",
        "colab_type": "text"
      },
      "source": [
        "**Format** 서식지정자\n"
      ]
    },
    {
      "cell_type": "code",
      "metadata": {
        "id": "kBRL7AipG69P",
        "colab_type": "code",
        "colab": {
          "base_uri": "https://localhost:8080/",
          "height": 35
        },
        "outputId": "1aaa0e0c-d33d-4803-c788-ed005e872e22"
      },
      "source": [
        "s='a is {}'\n",
        "s.format('apple')"
      ],
      "execution_count": 15,
      "outputs": [
        {
          "output_type": "execute_result",
          "data": {
            "text/plain": [
              "'a is apple'"
            ]
          },
          "metadata": {
            "tags": []
          },
          "execution_count": 15
        }
      ]
    },
    {
      "cell_type": "code",
      "metadata": {
        "id": "c_p4_HIDHVwg",
        "colab_type": "code",
        "colab": {
          "base_uri": "https://localhost:8080/",
          "height": 53
        },
        "outputId": "b41c4526-e652-4b04-882d-e65c046c1914"
      },
      "source": [
        "a='%s %d 개 가격은 %.2f 달라'\n",
        "b=a %('햄버거는',2,4.0*2)\n",
        "print(a)\n",
        "print(b)"
      ],
      "execution_count": 17,
      "outputs": [
        {
          "output_type": "stream",
          "text": [
            "%s %d 개 가격은 %.2f 달라\n",
            "햄버거는 2 개 가격은 8.00 달라\n"
          ],
          "name": "stdout"
        }
      ]
    },
    {
      "cell_type": "code",
      "metadata": {
        "id": "k0eM2mwzIC0I",
        "colab_type": "code",
        "colab": {}
      },
      "source": [
        "# 치킨 2마리 가격은 40000원"
      ],
      "execution_count": 0,
      "outputs": []
    },
    {
      "cell_type": "code",
      "metadata": {
        "id": "cn4Bgt6wII_H",
        "colab_type": "code",
        "colab": {
          "base_uri": "https://localhost:8080/",
          "height": 53
        },
        "outputId": "1eb9f122-d9d2-4812-b900-e4cf045e3989"
      },
      "source": [
        "a='%s %d 마리 가격은 %d 원'\n",
        "b=a %('치킨',2,20000*2)\n",
        "print(a)\n",
        "print(b)"
      ],
      "execution_count": 19,
      "outputs": [
        {
          "output_type": "stream",
          "text": [
            "%s %d 마리 가격은 %d 원\n",
            "치킨 2 마리 가격은 40000 원\n"
          ],
          "name": "stdout"
        }
      ]
    }
  ]
}