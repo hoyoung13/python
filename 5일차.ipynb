{
  "nbformat": 4,
  "nbformat_minor": 0,
  "metadata": {
    "colab": {
      "name": "5일차.ipynb",
      "provenance": [],
      "collapsed_sections": [],
      "authorship_tag": "ABX9TyNM5+j0SUx6jypkTGfSklPS",
      "include_colab_link": true
    },
    "kernelspec": {
      "name": "python3",
      "display_name": "Python 3"
    }
  },
  "cells": [
    {
      "cell_type": "markdown",
      "metadata": {
        "id": "view-in-github",
        "colab_type": "text"
      },
      "source": [
        "<a href=\"https://colab.research.google.com/github/hoyoung13/python/blob/master/5%EC%9D%BC%EC%B0%A8.ipynb\" target=\"_parent\"><img src=\"https://colab.research.google.com/assets/colab-badge.svg\" alt=\"Open In Colab\"/></a>"
      ]
    },
    {
      "cell_type": "markdown",
      "metadata": {
        "id": "SXHrG2nj4hLi",
        "colab_type": "text"
      },
      "source": [
        "# 1.1.while\n",
        "초기값\n",
        "조건\n",
        "실행문:\n",
        "증감...\n"
      ]
    },
    {
      "cell_type": "code",
      "metadata": {
        "id": "LURGA5fR5rvA",
        "colab_type": "code",
        "colab": {
          "base_uri": "https://localhost:8080/",
          "height": 35
        },
        "outputId": "233ee9bf-5a18-46ff-88d4-560865d7f1c6"
      },
      "source": [
        "for i in range(1,11,2):\n",
        "  print(i,end=' ')"
      ],
      "execution_count": 5,
      "outputs": [
        {
          "output_type": "stream",
          "text": [
            "1 3 5 7 9 "
          ],
          "name": "stdout"
        }
      ]
    },
    {
      "cell_type": "code",
      "metadata": {
        "id": "N7854ujR4iiH",
        "colab_type": "code",
        "colab": {
          "base_uri": "https://localhost:8080/",
          "height": 35
        },
        "outputId": "91b20272-6a5c-4730-c453-d1d38b11b998"
      },
      "source": [
        "i=1\n",
        "while(i<11):\n",
        "  print(i,end=' ')\n",
        "  i+=2"
      ],
      "execution_count": 8,
      "outputs": [
        {
          "output_type": "stream",
          "text": [
            "1 3 5 7 9 "
          ],
          "name": "stdout"
        }
      ]
    },
    {
      "cell_type": "code",
      "metadata": {
        "id": "DNM-s4-A6KFA",
        "colab_type": "code",
        "colab": {
          "base_uri": "https://localhost:8080/",
          "height": 35
        },
        "outputId": "2090efdf-9736-49be-fcac-fd1fcc33be31"
      },
      "source": [
        "num=list(range(10,110,10))\n",
        "print(num)"
      ],
      "execution_count": 11,
      "outputs": [
        {
          "output_type": "stream",
          "text": [
            "[10, 20, 30, 40, 50, 60, 70, 80, 90, 100]\n"
          ],
          "name": "stdout"
        }
      ]
    },
    {
      "cell_type": "code",
      "metadata": {
        "id": "t8hmkzNL6guv",
        "colab_type": "code",
        "colab": {
          "base_uri": "https://localhost:8080/",
          "height": 35
        },
        "outputId": "9f64fd2b-e499-41ae-fe78-89cd32edd2d9"
      },
      "source": [
        "a=0\n",
        "while(a<len(num)):\n",
        "  print(num[a],end=' ')\n",
        "  a+=1"
      ],
      "execution_count": 16,
      "outputs": [
        {
          "output_type": "stream",
          "text": [
            "10 20 30 40 50 60 70 80 90 100 "
          ],
          "name": "stdout"
        }
      ]
    },
    {
      "cell_type": "code",
      "metadata": {
        "id": "3BlZZsu-7V8f",
        "colab_type": "code",
        "colab": {
          "base_uri": "https://localhost:8080/",
          "height": 35
        },
        "outputId": "fabe6e72-f4f9-439e-f4ea-102b18c6e5b0"
      },
      "source": [
        "lunch=['고추바사삭','뿌링클','항금올리브','허니콤보']\n",
        "i=0\n",
        "while(i<len(lunch)):\n",
        "  print(lunch[i],end=' ')\n",
        "  i+=1"
      ],
      "execution_count": 19,
      "outputs": [
        {
          "output_type": "stream",
          "text": [
            "고추바사삭 뿌링클 항금올리브 허니콤보 "
          ],
          "name": "stdout"
        }
      ]
    },
    {
      "cell_type": "code",
      "metadata": {
        "id": "YiBOilm173Yk",
        "colab_type": "code",
        "colab": {
          "base_uri": "https://localhost:8080/",
          "height": 35
        },
        "outputId": "add9289d-fa08-4083-c341-64ae63fa5f85"
      },
      "source": [
        "lunch.sort()\n",
        "lunch"
      ],
      "execution_count": 23,
      "outputs": [
        {
          "output_type": "execute_result",
          "data": {
            "text/plain": [
              "['고추바사삭', '뿌링클', '항금올리브', '허니콤보']"
            ]
          },
          "metadata": {
            "tags": []
          },
          "execution_count": 23
        }
      ]
    },
    {
      "cell_type": "code",
      "metadata": {
        "id": "RWgto5wO8YBv",
        "colab_type": "code",
        "colab": {
          "base_uri": "https://localhost:8080/",
          "height": 35
        },
        "outputId": "309654ad-e206-4f70-e62b-fbb15c6d4c69"
      },
      "source": [
        "lunch.reverse()\n",
        "lunch"
      ],
      "execution_count": 25,
      "outputs": [
        {
          "output_type": "execute_result",
          "data": {
            "text/plain": [
              "['고추바사삭', '뿌링클', '항금올리브', '허니콤보']"
            ]
          },
          "metadata": {
            "tags": []
          },
          "execution_count": 25
        }
      ]
    },
    {
      "cell_type": "code",
      "metadata": {
        "id": "BjLsNiI38ckA",
        "colab_type": "code",
        "colab": {
          "base_uri": "https://localhost:8080/",
          "height": 35
        },
        "outputId": "c28a68ce-ed3b-40e7-878e-adf42437f4ac"
      },
      "source": [
        "import random as r\n",
        "r.shuffle(lunch)\n",
        "lunch"
      ],
      "execution_count": 29,
      "outputs": [
        {
          "output_type": "execute_result",
          "data": {
            "text/plain": [
              "['항금올리브', '뿌링클', '고추바사삭', '허니콤보']"
            ]
          },
          "metadata": {
            "tags": []
          },
          "execution_count": 29
        }
      ]
    },
    {
      "cell_type": "markdown",
      "metadata": {
        "id": "ssinYJlQ9Cmr",
        "colab_type": "text"
      },
      "source": [
        "**1.2.break~continue**\n",
        "\n"
      ]
    },
    {
      "cell_type": "code",
      "metadata": {
        "id": "RLLsqTvr9H6D",
        "colab_type": "code",
        "colab": {
          "base_uri": "https://localhost:8080/",
          "height": 35
        },
        "outputId": "feb89dc9-6b21-4f65-b4ec-47b3987bbf6c"
      },
      "source": [
        "i=1\n",
        "while i<=10:\n",
        "  print(i, end=' ')\n",
        "  i+=1\n",
        "  if i<7:\n",
        "    continue\n",
        "  break"
      ],
      "execution_count": 30,
      "outputs": [
        {
          "output_type": "stream",
          "text": [
            "1 2 3 4 5 6 "
          ],
          "name": "stdout"
        }
      ]
    },
    {
      "cell_type": "markdown",
      "metadata": {
        "id": "xTj7cz5Z9hpv",
        "colab_type": "text"
      },
      "source": [
        "#[문제1]\n",
        "\n",
        "1. 10부터 10단위 100까지의 num list 만들기: range()이용\n",
        "2. while문을 이용하여  list값 출력하기 10/20\n",
        "3. list 합계의 평균구하기\n",
        "4. continue를 이용하여 50빼구 출력\n",
        "5. break를 이용하여 80까지만 출력하기"
      ]
    },
    {
      "cell_type": "code",
      "metadata": {
        "id": "BwG7iqI1970A",
        "colab_type": "code",
        "colab": {
          "base_uri": "https://localhost:8080/",
          "height": 71
        },
        "outputId": "6b013a08-bc43-43a0-ad92-f340ea84503c"
      },
      "source": [
        "num=list(range(10,110,10))\n",
        "i=0\n",
        "sum=0\n",
        "while(i<len(num)):\n",
        "  \n",
        "  if(num[i]==50):\n",
        "    i+=1\n",
        "    continue\n",
        "  if(num[i]>80):\n",
        "    break\n",
        "  print(num[i],end='/') \n",
        "  sum+=int(num[i])\n",
        "  i+=1\n",
        "avr=sum/10\n",
        "print('\\n합계',sum)\n",
        "print('평균',avr)"
      ],
      "execution_count": 50,
      "outputs": [
        {
          "output_type": "stream",
          "text": [
            "10/20/30/40/60/70/80/\n",
            "합계 310\n",
            "평균 31.0\n"
          ],
          "name": "stdout"
        }
      ]
    },
    {
      "cell_type": "markdown",
      "metadata": {
        "id": "ivfkHAbkCunO",
        "colab_type": "text"
      },
      "source": [
        "입력값이 exit면 멈추고 그렇지않으면 계속 입력받고 출력받기"
      ]
    },
    {
      "cell_type": "code",
      "metadata": {
        "id": "leUPngDnCzsk",
        "colab_type": "code",
        "colab": {
          "base_uri": "https://localhost:8080/",
          "height": 89
        },
        "outputId": "16af0b94-b13e-47d5-88bf-1ea2594d85f0"
      },
      "source": [
        "echo=input('입력: ')\n",
        "while echo!='exit':\n",
        "  print('입력값: ',echo)\n",
        "  echo=input('입력: ')\n",
        "  print('입력값: ',echo)\n",
        " "
      ],
      "execution_count": 61,
      "outputs": [
        {
          "output_type": "stream",
          "text": [
            "입력: q\n",
            "입력값:  q\n",
            "입력: exit\n",
            "입력값:  exit\n"
          ],
          "name": "stdout"
        }
      ]
    },
    {
      "cell_type": "markdown",
      "metadata": {
        "id": "QmPx3raBIpIu",
        "colab_type": "text"
      },
      "source": [
        "id 같으면 회원 그렇지 않으면 회원가입"
      ]
    },
    {
      "cell_type": "code",
      "metadata": {
        "id": "XORWIU7zIt2a",
        "colab_type": "code",
        "colab": {
          "base_uri": "https://localhost:8080/",
          "height": 53
        },
        "outputId": "aef7e087-088e-4ecd-805c-2fc999632536"
      },
      "source": [
        "a=input('아이디 입력:')\n",
        "while a==a:\n",
        "  print('회원')\n",
        "  break\n",
        "  "
      ],
      "execution_count": 63,
      "outputs": [
        {
          "output_type": "stream",
          "text": [
            "아이디 입력:q\n",
            "회원\n"
          ],
          "name": "stdout"
        }
      ]
    }
  ]
}