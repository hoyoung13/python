{
  "nbformat": 4,
  "nbformat_minor": 0,
  "metadata": {
    "colab": {
      "name": "4일차-1.ipynb",
      "provenance": [],
      "authorship_tag": "ABX9TyMHaAK/l93TD4JBgnH2MWQb",
      "include_colab_link": true
    },
    "kernelspec": {
      "name": "python3",
      "display_name": "Python 3"
    }
  },
  "cells": [
    {
      "cell_type": "markdown",
      "metadata": {
        "id": "view-in-github",
        "colab_type": "text"
      },
      "source": [
        "<a href=\"https://colab.research.google.com/github/hoyoung13/python/blob/master/4%EC%9D%BC%EC%B0%A8_1.ipynb\" target=\"_parent\"><img src=\"https://colab.research.google.com/assets/colab-badge.svg\" alt=\"Open In Colab\"/></a>"
      ]
    },
    {
      "cell_type": "markdown",
      "metadata": {
        "id": "d9ULFokC7wKa",
        "colab_type": "text"
      },
      "source": [
        "\n",
        "**[학습목표]**\n",
        "\n",
        "1. list, range\n",
        "2. for문\n",
        "---"
      ]
    },
    {
      "cell_type": "code",
      "metadata": {
        "id": "B1sOuiA7751O",
        "colab_type": "code",
        "outputId": "c151935a-f86e-473d-ba27-98f4c29cc2b0",
        "colab": {
          "base_uri": "https://localhost:8080/",
          "height": 35
        }
      },
      "source": [
        "range(5)"
      ],
      "execution_count": 0,
      "outputs": [
        {
          "output_type": "execute_result",
          "data": {
            "text/plain": [
              "range(0, 5)"
            ]
          },
          "metadata": {
            "tags": []
          },
          "execution_count": 2
        }
      ]
    },
    {
      "cell_type": "code",
      "metadata": {
        "id": "pmT3phqB8ZUp",
        "colab_type": "code",
        "outputId": "7cf8e73c-1d85-4720-cdd9-18725812fd51",
        "colab": {
          "base_uri": "https://localhost:8080/",
          "height": 35
        }
      },
      "source": [
        "a=list(range(10,0,-2 ))\n",
        "a"
      ],
      "execution_count": 0,
      "outputs": [
        {
          "output_type": "execute_result",
          "data": {
            "text/plain": [
              "[10, 8, 6, 4, 2]"
            ]
          },
          "metadata": {
            "tags": []
          },
          "execution_count": 7
        }
      ]
    },
    {
      "cell_type": "code",
      "metadata": {
        "id": "qednDQED8daZ",
        "colab_type": "code",
        "outputId": "00b2f03c-9f72-407b-c925-f6cafdb4e447",
        "colab": {
          "base_uri": "https://localhost:8080/",
          "height": 35
        }
      },
      "source": [
        "type(a)"
      ],
      "execution_count": 0,
      "outputs": [
        {
          "output_type": "execute_result",
          "data": {
            "text/plain": [
              "list"
            ]
          },
          "metadata": {
            "tags": []
          },
          "execution_count": 9
        }
      ]
    },
    {
      "cell_type": "code",
      "metadata": {
        "id": "TNInwWpP9CrR",
        "colab_type": "code",
        "outputId": "b6d93814-9211-441c-859e-c50c3e461ad2",
        "colab": {
          "base_uri": "https://localhost:8080/",
          "height": 35
        }
      },
      "source": [
        "for i in range(1,11):\n",
        "  print(i,end=' ')"
      ],
      "execution_count": 0,
      "outputs": [
        {
          "output_type": "stream",
          "text": [
            "1 2 3 4 5 6 7 8 9 10 "
          ],
          "name": "stdout"
        }
      ]
    },
    {
      "cell_type": "markdown",
      "metadata": {
        "id": "CeMnmFZU9ijX",
        "colab_type": "text"
      },
      "source": [
        "**[문제1]**\n",
        "for문을 이용해서 10부터 0까지 -2씩 출력"
      ]
    },
    {
      "cell_type": "code",
      "metadata": {
        "id": "uT7Gi7uL9WXp",
        "colab_type": "code",
        "outputId": "a8d3df64-4fab-401c-e837-56b2a5a085e9",
        "colab": {
          "base_uri": "https://localhost:8080/",
          "height": 35
        }
      },
      "source": [
        "for i in range(10,-2,-2):\n",
        "  print(i,end=' ')"
      ],
      "execution_count": 0,
      "outputs": [
        {
          "output_type": "stream",
          "text": [
            "10 8 6 4 2 0 "
          ],
          "name": "stdout"
        }
      ]
    },
    {
      "cell_type": "code",
      "metadata": {
        "id": "UL0zlXIV-CZw",
        "colab_type": "code",
        "outputId": "9aa16daf-f561-4330-d2e8-9490b3995a9f",
        "colab": {
          "base_uri": "https://localhost:8080/",
          "height": 107
        }
      },
      "source": [
        "a=[1.3,2.1,4.5,5,5.1]\n",
        "for i in range(len(a)):\n",
        "  print(a[i])"
      ],
      "execution_count": 0,
      "outputs": [
        {
          "output_type": "stream",
          "text": [
            "1.3\n",
            "2.1\n",
            "4.5\n",
            "5\n",
            "5.1\n"
          ],
          "name": "stdout"
        }
      ]
    },
    {
      "cell_type": "markdown",
      "metadata": {
        "id": "xqplS9O-_Wed",
        "colab_type": "text"
      },
      "source": [
        "**[문제2]**\n",
        "for문을 이용해서 Hello\n",
        "\n",
        "'''\n",
        "#Hello Python 1\n",
        "...\n",
        "#Hello Python 10\n",
        "'''"
      ]
    },
    {
      "cell_type": "code",
      "metadata": {
        "id": "t8pIYpKe_sVZ",
        "colab_type": "code",
        "outputId": "36ddcd3f-bee3-415a-dc36-bba49565063c",
        "colab": {
          "base_uri": "https://localhost:8080/",
          "height": 197
        }
      },
      "source": [
        "for i in range(1,11):\n",
        "  print('Hello Python',i)"
      ],
      "execution_count": 0,
      "outputs": [
        {
          "output_type": "stream",
          "text": [
            "Hello Python 1\n",
            "Hello Python 2\n",
            "Hello Python 3\n",
            "Hello Python 4\n",
            "Hello Python 5\n",
            "Hello Python 6\n",
            "Hello Python 7\n",
            "Hello Python 8\n",
            "Hello Python 9\n",
            "Hello Python 10\n"
          ],
          "name": "stdout"
        }
      ]
    },
    {
      "cell_type": "code",
      "metadata": {
        "id": "OFvAk8_hAHz9",
        "colab_type": "code",
        "outputId": "77b91967-784e-4333-a495-fa8c05bdb8a2",
        "colab": {
          "base_uri": "https://localhost:8080/",
          "height": 53
        }
      },
      "source": [
        "count=int(input('몇번 반복: '))\n",
        "type(count)   "
      ],
      "execution_count": 0,
      "outputs": [
        {
          "output_type": "stream",
          "text": [
            "몇번 반복: 3\n"
          ],
          "name": "stdout"
        },
        {
          "output_type": "execute_result",
          "data": {
            "text/plain": [
              "int"
            ]
          },
          "metadata": {
            "tags": []
          },
          "execution_count": 26
        }
      ]
    },
    {
      "cell_type": "code",
      "metadata": {
        "id": "UunApMc8AgjQ",
        "colab_type": "code",
        "outputId": "e9785236-1076-4a98-fa44-366829904ffc",
        "colab": {
          "base_uri": "https://localhost:8080/",
          "height": 125
        }
      },
      "source": [
        "count=int(input('몇번 반복: '))\n",
        "for i in range(count):\n",
        "  print('좋아',i+1)"
      ],
      "execution_count": 0,
      "outputs": [
        {
          "output_type": "stream",
          "text": [
            "몇번 반복: 5\n",
            "좋아 1\n",
            "좋아 2\n",
            "좋아 3\n",
            "좋아 4\n",
            "좋아 5\n"
          ],
          "name": "stdout"
        }
      ]
    },
    {
      "cell_type": "code",
      "metadata": {
        "id": "bY2v-aSJA_zO",
        "colab_type": "code",
        "outputId": "5f344137-6abc-461e-bb0c-68a059b13950",
        "colab": {
          "base_uri": "https://localhost:8080/",
          "height": 53
        }
      },
      "source": [
        "a=list(map(int,(input('숫자 입력: ').split())))\n",
        "print(a[1])\n",
        "for i in "
      ],
      "execution_count": 0,
      "outputs": [
        {
          "output_type": "stream",
          "text": [
            "숫자 입력: 32 123 123\n",
            "123\n"
          ],
          "name": "stdout"
        }
      ]
    },
    {
      "cell_type": "markdown",
      "metadata": {
        "id": "a3gNBAWxCnHk",
        "colab_type": "text"
      },
      "source": [
        "**[문제3]**\n",
        "숫자 5개 입력 받아 합계 구해\n",
        "**굵은 텍스트**"
      ]
    },
    {
      "cell_type": "code",
      "metadata": {
        "id": "JrR8gEaCCeQ4",
        "colab_type": "code",
        "outputId": "16c68c27-b054-4a63-cc80-996f2b143ddf",
        "colab": {
          "base_uri": "https://localhost:8080/",
          "height": 89
        }
      },
      "source": [
        "a=list(map(int,(input('숫자 입력: ').split())))\n",
        "sum=0\n",
        "b=0.0\n",
        "for i in  range(len(a)):\n",
        "  sum+=a[i]\n",
        "  print(a[i], end=' / ')\n",
        "print('\\n합계',sum)\n",
        "b= sum/len(a)\n",
        "print('평균',b)\n"
      ],
      "execution_count": 0,
      "outputs": [
        {
          "output_type": "stream",
          "text": [
            "숫자 입력:  1 2 3 4\n",
            "1 / 2 / 3 / 4 / \n",
            "합계 10\n",
            "평균 2.5\n"
          ],
          "name": "stdout"
        }
      ]
    }
  ]
}